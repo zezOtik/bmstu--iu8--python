{
 "cells": [
  {
   "cell_type": "code",
   "id": "initial_id",
   "metadata": {
    "collapsed": true,
    "ExecuteTime": {
     "end_time": "2025-09-18T12:46:41.580180Z",
     "start_time": "2025-09-18T12:46:32.579028Z"
    }
   },
   "source": [
    "a = int(input())\n",
    "b = int(input())\n",
    "c = int(input())\n",
    "print(round((a + b + c) / 3, 2))"
   ],
   "outputs": [
    {
     "name": "stdout",
     "output_type": "stream",
     "text": [
      "2.0\n"
     ]
    }
   ],
   "execution_count": 2
  },
  {
   "metadata": {
    "ExecuteTime": {
     "end_time": "2025-09-18T12:48:37.413213Z",
     "start_time": "2025-09-18T12:48:27.256030Z"
    }
   },
   "cell_type": "code",
   "source": [
    "st = input()\n",
    "print(len(st), f\"first -- {st[0]}, last -- {st[-1]}\", st.upper(), st*3, sep=\"\\n\")"
   ],
   "id": "26a96950cdad1785",
   "outputs": [
    {
     "name": "stdout",
     "output_type": "stream",
     "text": [
      "5\n",
      "first t, last y\n",
      "TESTY\n",
      "testytestytesty\n"
     ]
    }
   ],
   "execution_count": 3
  },
  {
   "metadata": {
    "ExecuteTime": {
     "end_time": "2025-09-18T12:52:32.064204Z",
     "start_time": "2025-09-18T12:52:32.060582Z"
    }
   },
   "cell_type": "code",
   "source": [
    "example_list = [1, \"test\", 23, 57, \"another string\"]\n",
    "print(example_list[1], len(example_list), example_list[-3:], sep=\"\\n\")\n",
    "print(f\"Before change -- {example_list[2]}\")\n",
    "example_list[2] = \"Python\"\n",
    "print(f\"After change -- {example_list[2]}\")"
   ],
   "id": "1dcd91be5ff36cc6",
   "outputs": [
    {
     "name": "stdout",
     "output_type": "stream",
     "text": [
      "test\n",
      "5\n",
      "[23, 57, 'another string']\n",
      "Before change -- 23\n",
      "After change -- Python\n"
     ]
    }
   ],
   "execution_count": 5
  },
  {
   "metadata": {
    "ExecuteTime": {
     "end_time": "2025-09-18T12:55:15.677119Z",
     "start_time": "2025-09-18T12:55:08.327398Z"
    }
   },
   "cell_type": "code",
   "source": [
    "nums = input()\n",
    "nums_list = nums.split(\" \")\n",
    "set = {num for num in nums_list}\n",
    "print(nums_list, set, sep=\"\\n\")"
   ],
   "id": "c39713f744d8c520",
   "outputs": [
    {
     "name": "stdout",
     "output_type": "stream",
     "text": [
      "['1', '2', '3', '2', '5', '6', '1', '7']\n",
      "{'2', '7', '6', '3', '5', '1'}\n"
     ]
    }
   ],
   "execution_count": 6
  },
  {
   "metadata": {
    "ExecuteTime": {
     "end_time": "2025-09-18T13:02:26.833475Z",
     "start_time": "2025-09-18T13:02:21.514661Z"
    }
   },
   "cell_type": "code",
   "source": [
    "dict = {\n",
    "    'Студент': input(),\n",
    "    'Возраст': input(),\n",
    "    'Курс': input()\n",
    "}\n",
    "\n",
    "for key in dict:\n",
    "    print(f\"{key}: {dict[key]}\")"
   ],
   "id": "daf974a0021ae6b1",
   "outputs": [
    {
     "name": "stdout",
     "output_type": "stream",
     "text": [
      "Студент: Иван Иванов\n",
      "Возраст: 20\n",
      "Курс: 2\n",
      "Студент: Иван Иванов\n",
      "Возраст: 20\n",
      "Курс: 2\n"
     ]
    }
   ],
   "execution_count": 10
  },
  {
   "metadata": {
    "ExecuteTime": {
     "end_time": "2025-09-18T13:03:19.416041Z",
     "start_time": "2025-09-18T13:03:17.080710Z"
    }
   },
   "cell_type": "code",
   "source": [
    "num = int(input())\n",
    "print(num % 2 == 0)"
   ],
   "id": "3e8370ae4f6ac51f",
   "outputs": [
    {
     "name": "stdout",
     "output_type": "stream",
     "text": [
      "False\n"
     ]
    }
   ],
   "execution_count": 12
  },
  {
   "metadata": {
    "ExecuteTime": {
     "end_time": "2025-09-18T13:04:22.550716Z",
     "start_time": "2025-09-18T13:04:16.382631Z"
    }
   },
   "cell_type": "code",
   "source": [
    "num1 = input()\n",
    "num2 = input()\n",
    "op = input()\n",
    "\n",
    "print(eval(num1 + op + num2))"
   ],
   "id": "9828e41a3809a135",
   "outputs": [
    {
     "name": "stdout",
     "output_type": "stream",
     "text": [
      "7\n"
     ]
    }
   ],
   "execution_count": 13
  }
 ],
 "metadata": {
  "kernelspec": {
   "display_name": "Python 3",
   "language": "python",
   "name": "python3"
  },
  "language_info": {
   "codemirror_mode": {
    "name": "ipython",
    "version": 2
   },
   "file_extension": ".py",
   "mimetype": "text/x-python",
   "name": "python",
   "nbconvert_exporter": "python",
   "pygments_lexer": "ipython2",
   "version": "2.7.6"
  }
 },
 "nbformat": 4,
 "nbformat_minor": 5
}
